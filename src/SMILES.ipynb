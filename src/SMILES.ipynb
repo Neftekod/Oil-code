{
 "cells": [
  {
   "cell_type": "code",
   "execution_count": 1,
   "id": "25854bf6-5942-43d1-ae75-b4f73d2544c7",
   "metadata": {},
   "outputs": [
    {
     "data": {
      "text/html": [
       "<div>\n",
       "<style scoped>\n",
       "    .dataframe tbody tr th:only-of-type {\n",
       "        vertical-align: middle;\n",
       "    }\n",
       "\n",
       "    .dataframe tbody tr th {\n",
       "        vertical-align: top;\n",
       "    }\n",
       "\n",
       "    .dataframe thead th {\n",
       "        text-align: right;\n",
       "    }\n",
       "</style>\n",
       "<table border=\"1\" class=\"dataframe\">\n",
       "  <thead>\n",
       "    <tr style=\"text-align: right;\">\n",
       "      <th></th>\n",
       "      <th>blend_id</th>\n",
       "      <th>smiles</th>\n",
       "      <th>oil_property_param_value</th>\n",
       "    </tr>\n",
       "  </thead>\n",
       "  <tbody>\n",
       "    <tr>\n",
       "      <th>0</th>\n",
       "      <td>49743a76-a614-11ee-9529-005056921581</td>\n",
       "      <td>CCCCC</td>\n",
       "      <td>103300.0</td>\n",
       "    </tr>\n",
       "    <tr>\n",
       "      <th>1</th>\n",
       "      <td>49743a76-a614-11ee-9529-005056921581</td>\n",
       "      <td>CCCC(C)CCC</td>\n",
       "      <td>103300.0</td>\n",
       "    </tr>\n",
       "    <tr>\n",
       "      <th>2</th>\n",
       "      <td>49743a76-a614-11ee-9529-005056921581</td>\n",
       "      <td>CCC(C(OC)=O)CC</td>\n",
       "      <td>103300.0</td>\n",
       "    </tr>\n",
       "    <tr>\n",
       "      <th>3</th>\n",
       "      <td>49743a76-a614-11ee-9529-005056921581</td>\n",
       "      <td>CCCCC(C)C</td>\n",
       "      <td>103300.0</td>\n",
       "    </tr>\n",
       "    <tr>\n",
       "      <th>4</th>\n",
       "      <td>49743a76-a614-11ee-9529-005056921581</td>\n",
       "      <td>CC(C)(C)CC(C)(C)C</td>\n",
       "      <td>103300.0</td>\n",
       "    </tr>\n",
       "  </tbody>\n",
       "</table>\n",
       "</div>"
      ],
      "text/plain": [
       "                               blend_id             smiles  \\\n",
       "0  49743a76-a614-11ee-9529-005056921581              CCCCC   \n",
       "1  49743a76-a614-11ee-9529-005056921581         CCCC(C)CCC   \n",
       "2  49743a76-a614-11ee-9529-005056921581     CCC(C(OC)=O)CC   \n",
       "3  49743a76-a614-11ee-9529-005056921581          CCCCC(C)C   \n",
       "4  49743a76-a614-11ee-9529-005056921581  CC(C)(C)CC(C)(C)C   \n",
       "\n",
       "   oil_property_param_value  \n",
       "0                  103300.0  \n",
       "1                  103300.0  \n",
       "2                  103300.0  \n",
       "3                  103300.0  \n",
       "4                  103300.0  "
      ]
     },
     "execution_count": 1,
     "metadata": {},
     "output_type": "execute_result"
    }
   ],
   "source": [
    "import pandas as pd\n",
    "import rdkit\n",
    "from rdkit import Chem\n",
    "from rdkit.Chem import AllChem\n",
    "from collections import defaultdict\n",
    "\n",
    "df = pd.read_csv(\"./smiles_train_set.csv\")\n",
    "df.head()"
   ]
  },
  {
   "cell_type": "code",
   "execution_count": 75,
   "id": "88ed8ec2-074d-417f-a0dd-2fca200cc4d3",
   "metadata": {},
   "outputs": [
    {
     "name": "stderr",
     "output_type": "stream",
     "text": [
      "[20:49:19] Explicit valence for atom # 5 C, 5, is greater than permitted\n",
      "[20:49:19] Explicit valence for atom # 6 C, 5, is greater than permitted\n",
      "[20:49:19] SMILES Parse Error: syntax error while parsing: O=S(C1=CC=C([C18H21])C=C1)(O)=O\n",
      "[20:49:19] SMILES Parse Error: Failed parsing SMILES 'O=S(C1=CC=C([C18H21])C=C1)(O)=O' for input: 'O=S(C1=CC=C([C18H21])C=C1)(O)=O'\n",
      "[20:49:19] Explicit valence for atom # 6 C, 5, is greater than permitted\n",
      "[20:49:19] Explicit valence for atom # 6 C, 5, is greater than permitted\n",
      "[20:49:19] Explicit valence for atom # 6 C, 5, is greater than permitted\n",
      "[20:49:20] Explicit valence for atom # 6 C, 5, is greater than permitted\n",
      "[20:49:20] Explicit valence for atom # 6 C, 5, is greater than permitted\n",
      "[20:49:20] SMILES Parse Error: syntax error while parsing: O=S(C1=CC=C([C18H21])C=C1)(O)=O\n",
      "[20:49:20] SMILES Parse Error: Failed parsing SMILES 'O=S(C1=CC=C([C18H21])C=C1)(O)=O' for input: 'O=S(C1=CC=C([C18H21])C=C1)(O)=O'\n",
      "[20:49:20] Explicit valence for atom # 6 C, 5, is greater than permitted\n",
      "[20:49:20] SMILES Parse Error: syntax error while parsing: O=S(C1=CC=C([C18H21])C=C1)(O)=O\n",
      "[20:49:20] SMILES Parse Error: Failed parsing SMILES 'O=S(C1=CC=C([C18H21])C=C1)(O)=O' for input: 'O=S(C1=CC=C([C18H21])C=C1)(O)=O'\n",
      "[20:49:20] Explicit valence for atom # 5 C, 5, is greater than permitted\n",
      "[20:49:20] Explicit valence for atom # 6 C, 5, is greater than permitted\n",
      "[20:49:20] Explicit valence for atom # 6 C, 5, is greater than permitted\n",
      "[20:49:20] Explicit valence for atom # 6 C, 5, is greater than permitted\n",
      "[20:49:20] Explicit valence for atom # 6 C, 5, is greater than permitted\n",
      "[20:49:20] Explicit valence for atom # 6 C, 5, is greater than permitted\n",
      "[20:49:20] Explicit valence for atom # 6 C, 5, is greater than permitted\n",
      "[20:49:20] Explicit valence for atom # 6 C, 5, is greater than permitted\n",
      "[20:49:20] Explicit valence for atom # 6 C, 5, is greater than permitted\n",
      "[20:49:20] Explicit valence for atom # 6 C, 5, is greater than permitted\n"
     ]
    }
   ],
   "source": [
    "import numpy as np\n",
    "\n",
    "dct_oil = defaultdict(list)\n",
    "dct_param = defaultdict(float)\n",
    "for idx in df.index:\n",
    "    s = df[\"smiles\"][idx].strip()\n",
    "    mol = Chem.MolFromSmiles(s)\n",
    "    if mol != None: # ошибка для 'O=S(C1=CC=C([C18H21])C=C1)(O)=O'\n",
    "        fp = list(AllChem.GetMorganFingerprintAsBitVect(mol, radius=2, nBits=4096))\n",
    "        k = np.array(fp, dtype=int)\n",
    "        blend_id = df[\"blend_id\"][idx]\n",
    "        dct_oil[blend_id].append(k)\n",
    "        dct_param[blend_id] = df[\"oil_property_param_value\"][idx]\n",
    "\n",
    "data = pd.DataFrame()\n",
    "for blend_id,mols in dct_oil.items():\n",
    "    row = pd.DataFrame({\"Molecules\": [\"\"], \"oil_property_param_value\": [dct_param[blend_id]]})\n",
    "    row.at[0, \"Molecules\"] = dct_oil[blend_id]\n",
    "    data = pd.concat([data, row], ignore_index=True)"
   ]
  },
  {
   "cell_type": "code",
   "execution_count": 76,
   "id": "4044a02d-5a75-4031-bd8a-c7c9faaacbf3",
   "metadata": {},
   "outputs": [],
   "source": [
    "Xd = data[\"Molecules\"].apply(lambda x: np.sum(x, axis=0))\n",
    "Xd = pd.DataFrame(Xd.to_list(), columns=list(range(len(X[0]))))\n",
    "yd = data[\"oil_property_param_value\"]"
   ]
  },
  {
   "cell_type": "code",
   "execution_count": 77,
   "id": "4aa7db55-8da8-4634-adee-f198daf98b8a",
   "metadata": {},
   "outputs": [
    {
     "data": {
      "text/plain": [
       "'0      103300.0\\n1      103100.0\\n2      161250.0\\n3        6806.0\\n4      116600.0\\n5       90075.0\\n6       26595.0\\n7        7507.0\\n8       12530.0\\n9       86845.0\\n10      14565.0\\n11     125000.0\\n12     131900.0\\n13      34500.0\\n14      12515.0\\n15     131300.0\\n16     385200.0\\n17     111850.0\\n18     853000.0\\n19     107750.0\\n20     173050.0\\n21     129200.0\\n22      72465.0\\n23     147550.0\\n24      46330.0\\n25      21580.0\\n26      13360.0\\n27      10650.0\\n28     189900.0\\n29     127350.0\\n30      38060.0\\n31     131000.0\\n32      33065.0\\n33      83760.0\\n34     143800.0\\n35       8222.0\\n36      16225.0\\n37      61500.0\\n38     119200.0\\n39     198300.0\\n40      17035.0\\n41      22610.0\\n42      25650.0\\n43       7678.0\\n44     130450.0\\n45      13565.0\\n46      10010.0\\n47     145200.0\\n48     131700.0\\n49       6738.0\\n50      31560.0\\n51      12890.0\\n52       7369.0\\n53      28325.0\\n54      20325.0\\n55       8607.0\\n56     174300.0\\n57     121950.0\\n58          NaN\\n59       2685.0\\n60     129050.0\\n61      19240.0\\n62      18255.0\\n63      25910.0\\n64      88200.0\\n65       7900.0\\n66     127050.0\\n67       9698.0\\n68       5179.0\\n69      40500.0\\n70      38340.0\\n71      83845.0\\n72       8597.0\\n73      87330.0\\n74      55635.0\\n75      43800.0\\n76     111900.0\\n77       7224.0\\n78        -43.0\\n79      33510.0\\n80       7416.0\\n81      16315.0\\n82       2815.0\\n83      73335.0\\n84      17140.0\\n85      68890.0\\n86     113550.0\\n87     141850.0\\n88      80820.0\\n89      23060.0\\n90      40250.0\\n91     129300.0\\n92     619500.0\\n93     150900.0\\n94      71550.0\\n95      35880.0\\n96      14840.0\\n97      18725.0\\n98     166200.0\\n99       4402.0\\n100      7966.0\\n101    117600.0\\n102     48125.0\\n103     18000.0\\n104    160300.0\\n105     11910.0\\n106    149500.0\\n107     31800.0\\n108     65940.0\\n109      7678.0\\n110    134750.0\\n111     31890.0\\n112      1913.0\\n113     37605.0\\n114    138400.0\\n115      6147.0\\n116      2031.0\\n117    175450.0\\n118         NaN\\n119    132900.0\\n120      1472.0\\n121    134400.0\\n122     13355.0\\n123    100280.0\\n124    191250.0\\n125     16765.0\\n126     26690.0\\n127    145300.0\\n128    112900.0\\n129     18840.0\\n130     10845.0\\n131    239500.0\\n132    134100.0\\n133     22375.0\\n134     10800.0\\n135    108200.0\\n136     98800.0\\n137     93125.0\\n138    131000.0\\n139    115700.0\\n140     74250.0\\n141     23500.0\\n142     14960.0\\n143    117300.0\\n144      7680.0\\n145    125000.0\\n146     20310.0\\n147    126750.0\\n148    172500.0\\n149     15040.0\\n150     91460.0\\n151     22005.0\\n152     16800.0\\n153     20260.0\\n154    135050.0\\n155    175350.0\\n156      9698.0\\n157     75960.0\\n158     66240.0\\n159    143150.0\\n160    115800.0\\n161     10950.0\\n162    145200.0\\n163     11810.0\\n164     81700.0\\n165    117050.0\\n166     10875.0\\n167    110800.0\\n168      9119.0\\n169    137100.0\\n170    132400.0\\n171     12615.0\\n172    137700.0\\n173     10230.0\\n174     74465.0\\n175     12875.0\\n176    160050.0\\n177     43140.0\\n178     16285.0\\n179     12645.0\\n180    109000.0\\n181    119100.0\\n182     31050.0\\n183    117000.0\\n184     47850.0\\n185       -43.0\\n186    135800.0\\n187     42900.0\\n188    134550.0\\n189     93510.0\\n190     96855.0\\n191     13010.0\\n192     14955.0\\n193     16895.0\\n194    109000.0\\n195    120250.0\\n196     47800.0\\n197     10995.0\\n198     34400.0\\n199     82400.0\\n200    168650.0\\n201    111400.0\\n202    138100.0\\n203     17275.0\\n204    123600.0\\n205     29200.0\\n206     98500.0\\n207     94715.0\\n208     74975.0\\n209    108200.0\\n210     14895.0\\n211     12530.0\\n212    109800.0\\n213      9364.0\\n214     12265.0\\n215       -41.0\\n216    202200.0\\n217     16325.0\\n218     18175.0\\n219     97300.0\\n220      6306.0\\n221     18520.0\\n222     11570.0\\n223     94900.0\\n224    179850.0\\n225     28700.0\\n226     11040.0\\n227     15975.0\\n228     21480.0\\n229     29100.0\\n230     12105.0\\n231     61850.0\\n232     46000.0\\n233      2470.0\\n234     71475.0\\n235    136400.0\\n236     93125.0\\n237    161300.0\\n238      3711.0\\n239     19200.0\\n240     76188.0\\n241     20150.0\\n242    243600.0\\n243     17850.0\\n244     30080.0\\n245     96855.0\\n246    136500.0\\n247     11630.0\\n248    115250.0\\n249     12725.0\\n250      8674.0\\n251    235650.0\\n252    131750.0\\n253      6716.0\\n254     44290.0\\n255     11205.0\\n256    107700.0\\n257     11700.0\\n258    100000.0\\n259    167500.0\\n260     16460.0\\n261     97700.0\\n262    138500.0\\n263     96630.0\\n264      9180.0\\n265     12915.0\\n266     37200.0\\n267    151000.0\\n268    464600.0\\n269     29610.0\\n270    115800.0\\n271     94565.0\\n272     13025.0\\n273     16775.0\\n274     52990.0\\n275      1936.0\\n276     13800.0\\n277     80575.0\\n278     84000.0\\n279     26440.0\\n280    144500.0\\n281     16395.0\\n282     69975.0\\n283    124500.0\\n284     16895.0\\n285     19825.0\\n286    142150.0\\n287    167200.0\\n288     14435.0\\n289     15495.0\\n290     29100.0\\n291     20400.0\\n292     25475.0\\n293     15570.0\\n294     46575.0\\n295    143950.0\\n296     12340.0\\n297     18195.0\\n298     10562.0\\n299      5350.0\\n300     19145.0\\n301     15740.0\\n302    141600.0\\n303    122100.0\\n304     85875.0\\n305     12360.0\\n306      2061.0\\n307     40200.0\\n308     16640.0\\n309     79350.0\\n310         NaN\\n311     14445.0\\n312     14385.0\\n313      8355.0\\n314    113300.0\\n315    123750.0\\n316    372600.0\\n317    100600.0\\n318    128000.0\\n319    106300.0\\n320     17845.0\\n321    154000.0\\n322    133300.0\\n323     70100.0\\n324     38475.0\\n325     12655.0\\n326     13010.0\\n327     10790.0\\n328     52600.0\\n329     40515.0\\n330    166200.0\\n331     12145.0\\n332     16815.0\\n333     90530.0\\n334     17200.0\\n335     10297.0\\n336     21695.0\\n337      4357.0\\n338    266400.0\\n339    189150.0\\n340     12510.0'"
      ]
     },
     "execution_count": 77,
     "metadata": {},
     "output_type": "execute_result"
    }
   ],
   "source": [
    "yd.to_string()"
   ]
  },
  {
   "cell_type": "code",
   "execution_count": 81,
   "id": "4833601b-68aa-4cf2-9c0e-674153f24a55",
   "metadata": {},
   "outputs": [],
   "source": [
    "from sklearn.model_selection import train_test_split\n",
    "from sklearn.linear_model import LinearRegression\n",
    "from sklearn.metrics import mean_squared_error, r2_score, explained_variance_score\n",
    "from sklearn.tree import DecisionTreeRegressor\n",
    "from sklearn.linear_model import LassoCV\n",
    "from sklearn.linear_model import RidgeCV\n",
    "from sklearn.svm import SVR\n",
    "from sklearn.naive_bayes import GaussianNB\n",
    "\n",
    "def print_metrics(X_test, y_test, clf):\n",
    "    y_pred = clf.predict(X_test)\n",
    "    evs = explained_variance_score(y_test, y_pred)\n",
    "    print(\"EVS:\", evs)"
   ]
  },
  {
   "cell_type": "code",
   "execution_count": 83,
   "id": "d16acd13-f14a-4e6e-9ec4-fafa78ae1d66",
   "metadata": {},
   "outputs": [
    {
     "name": "stdout",
     "output_type": "stream",
     "text": [
      "EVS: 0.6699758193356073\n"
     ]
    }
   ],
   "source": [
    "X = Xd.to_numpy()\n",
    "y = yd.to_numpy()\n",
    "y[np.isnan(y)] = 0\n",
    "X_train, X_test, y_train, y_test = train_test_split(X, y, test_size=0.2, random_state=3)\n",
    "clf = GaussianNB()\n",
    "clf.fit(X_train, y_train)\n",
    "print_metrics(X_test, y_test, clf)"
   ]
  },
  {
   "cell_type": "code",
   "execution_count": 94,
   "id": "940376d4-936f-407d-9433-5118ab32c225",
   "metadata": {},
   "outputs": [
    {
     "name": "stdout",
     "output_type": "stream",
     "text": [
      "EVS: 0.03942798381198087\n"
     ]
    }
   ],
   "source": [
    "X = Xd.to_numpy()\n",
    "y = yd.to_numpy()\n",
    "y[np.isnan(y)] = 0\n",
    "X_train, X_test, y_train, y_test = train_test_split(X, y, test_size=0.2, random_state=3)\n",
    "clf = SVR(kernel=\"poly\", C=100.0, epsilon=0.1)\n",
    "clf.fit(X_train, y_train)\n",
    "print_metrics(X_test, y_test, clf)"
   ]
  },
  {
   "cell_type": "code",
   "execution_count": null,
   "id": "97b436ab-89e2-4ef6-9ca5-209fd4ece217",
   "metadata": {},
   "outputs": [],
   "source": []
  }
 ],
 "metadata": {
  "kernelspec": {
   "display_name": "Python 3 (ipykernel)",
   "language": "python",
   "name": "python3"
  },
  "language_info": {
   "codemirror_mode": {
    "name": "ipython",
    "version": 3
   },
   "file_extension": ".py",
   "mimetype": "text/x-python",
   "name": "python",
   "nbconvert_exporter": "python",
   "pygments_lexer": "ipython3",
   "version": "3.11.5"
  }
 },
 "nbformat": 4,
 "nbformat_minor": 5
}
